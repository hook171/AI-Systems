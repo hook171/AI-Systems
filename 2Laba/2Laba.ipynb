{
 "cells": [
  {
   "cell_type": "code",
   "execution_count": 1,
   "metadata": {},
   "outputs": [
    {
     "name": "stderr",
     "output_type": "stream",
     "text": [
      "[nltk_data] Downloading package punkt to\n",
      "[nltk_data]     C:\\Users\\ARTEM\\AppData\\Roaming\\nltk_data...\n",
      "[nltk_data]   Package punkt is already up-to-date!\n",
      "[nltk_data] Downloading package stopwords to\n",
      "[nltk_data]     C:\\Users\\ARTEM\\AppData\\Roaming\\nltk_data...\n",
      "[nltk_data]   Package stopwords is already up-to-date!\n"
     ]
    },
    {
     "data": {
      "text/plain": [
       "True"
      ]
     },
     "execution_count": 1,
     "metadata": {},
     "output_type": "execute_result"
    }
   ],
   "source": [
    "import nltk\n",
    "from nltk.corpus import stopwords\n",
    "from nltk.tokenize import word_tokenize\n",
    "from nltk.util import ngrams\n",
    "import re\n",
    "import string\n",
    "\n",
    "# Загрузка ресурсов NLTK\n",
    "nltk.data.path.append(\"C:/Users/ARTEM/AppData/Roaming/nltk_data\") \n",
    "nltk.download('punkt')\n",
    "nltk.download('stopwords')"
   ]
  },
  {
   "cell_type": "code",
   "execution_count": 9,
   "metadata": {},
   "outputs": [],
   "source": [
    "# Исходный текст\n",
    "text = \"\"\"\n",
    "Тестовая тестовая, бы, тест запрос текст 1.\n",
    "\"\"\""
   ]
  },
  {
   "cell_type": "code",
   "execution_count": 10,
   "metadata": {},
   "outputs": [
    {
     "name": "stdout",
     "output_type": "stream",
     "text": [
      "Текст после обработки:\n",
      "\n",
      "тестовая тестовая бы тест запрос текст 1\n",
      "\n"
     ]
    }
   ],
   "source": [
    "# 1. Перевод текста в нижний регистр\n",
    "text = text.lower()\n",
    "\n",
    "# 2. Удаление знаков препинания\n",
    "text = re.sub(f'[{re.escape(string.punctuation)}]', '', text)\n",
    "\n",
    "print(\"Текст после обработки:\")\n",
    "print(text)"
   ]
  },
  {
   "cell_type": "code",
   "execution_count": 11,
   "metadata": {},
   "outputs": [
    {
     "name": "stdout",
     "output_type": "stream",
     "text": [
      "Слова после удаления стоп-слов:\n",
      "['тестовая', 'тестовая', 'тест', 'запрос', 'текст', '1']\n"
     ]
    }
   ],
   "source": [
    "# 3. Удаление стоп-слов\n",
    "stop_words = set(stopwords.words('russian'))\n",
    "words = word_tokenize(text)\n",
    "filtered_words = [word for word in words if word not in stop_words]\n",
    "\n",
    "print(\"Слова после удаления стоп-слов:\")\n",
    "print(filtered_words)"
   ]
  },
  {
   "cell_type": "code",
   "execution_count": 12,
   "metadata": {},
   "outputs": [
    {
     "name": "stdout",
     "output_type": "stream",
     "text": [
      "Слова после удаления лишних символов:\n",
      "['тестовая', 'тестовая', 'тест', 'запрос', 'текст']\n"
     ]
    }
   ],
   "source": [
    "# 4. Удаление лишних символов (например, цифр)\n",
    "filtered_words = [re.sub(r'\\d+', '', word) for word in filtered_words]\n",
    "filtered_words = [word for word in filtered_words if word.strip()]\n",
    "\n",
    "print(\"Слова после удаления лишних символов:\")\n",
    "print(filtered_words)"
   ]
  },
  {
   "cell_type": "code",
   "execution_count": 13,
   "metadata": {},
   "outputs": [
    {
     "name": "stdout",
     "output_type": "stream",
     "text": [
      "Bag of Words:\n",
      "Counter({'тестовая': 2, 'тест': 1, 'запрос': 1, 'текст': 1})\n"
     ]
    }
   ],
   "source": [
    "# 5. Преобразование текста в мешок слов\n",
    "from collections import Counter\n",
    "\n",
    "bag_of_words = Counter(filtered_words)\n",
    "print(\"Bag of Words:\")\n",
    "print(bag_of_words)"
   ]
  },
  {
   "cell_type": "code",
   "execution_count": null,
   "metadata": {},
   "outputs": [],
   "source": [
    "# 6. Преобразование текста в N-граммы, где N=2,4\n",
    "# Биграммы (N=2)\n",
    "bigrams = list(ngrams(filtered_words, 2))\n",
    "\n",
    "# Четырехграммы (N=4)\n",
    "fourgrams = list(ngrams(filtered_words, 4))\n",
    "\n",
    "print(\"\\nBigrams:\")\n",
    "print(bigrams)\n",
    "\n",
    "print(\"\\nFourgrams:\")\n",
    "print(fourgrams)"
   ]
  }
 ],
 "metadata": {
  "kernelspec": {
   "display_name": "Python 3",
   "language": "python",
   "name": "python3"
  },
  "language_info": {
   "codemirror_mode": {
    "name": "ipython",
    "version": 3
   },
   "file_extension": ".py",
   "mimetype": "text/x-python",
   "name": "python",
   "nbconvert_exporter": "python",
   "pygments_lexer": "ipython3",
   "version": "3.12.2"
  }
 },
 "nbformat": 4,
 "nbformat_minor": 2
}
