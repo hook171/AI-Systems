{
 "cells": [
  {
   "cell_type": "code",
   "execution_count": 1,
   "metadata": {},
   "outputs": [],
   "source": [
    "from sklearn.datasets import load_iris\n",
    "from sklearn.model_selection import train_test_split\n",
    "\n",
    "# Загрузка данных\n",
    "data = load_iris()\n",
    "X, y = data.data, data.target\n",
    "\n",
    "# Разделение данных на обучающую и тестовую выборки\n",
    "X_train, X_test, y_train, y_test = train_test_split(X, y, test_size=0.3, random_state=42)"
   ]
  },
  {
   "cell_type": "code",
   "execution_count": 2,
   "metadata": {},
   "outputs": [
    {
     "name": "stdout",
     "output_type": "stream",
     "text": [
      "=== Grid Search ===\n",
      "Лучшие параметры (Grid Search): {'max_depth': None, 'min_samples_leaf': 1, 'min_samples_split': 2, 'n_estimators': 100}\n",
      "Точность (Grid Search): 0.9428571428571428\n"
     ]
    },
    {
     "name": "stderr",
     "output_type": "stream",
     "text": [
      "c:\\Python312\\Lib\\site-packages\\numpy\\ma\\core.py:2820: RuntimeWarning: invalid value encountered in cast\n",
      "  _data = np.array(data, dtype=dtype, copy=copy,\n"
     ]
    }
   ],
   "source": [
    "from sklearn.model_selection import GridSearchCV\n",
    "from sklearn.ensemble import RandomForestClassifier\n",
    "\n",
    "# Параметры для Grid Search\n",
    "param_grid = {\n",
    "    'n_estimators': [10, 50, 100, 200],\n",
    "    'max_depth': [None, 10, 20, 30],\n",
    "    'min_samples_split': [2, 5, 10],\n",
    "    'min_samples_leaf': [1, 2, 4]\n",
    "}\n",
    "\n",
    "# Создание модели и Grid Search\n",
    "model = RandomForestClassifier(random_state=42)\n",
    "grid_search = GridSearchCV(estimator=model, param_grid=param_grid, cv=5, scoring='accuracy', n_jobs=-1)\n",
    "grid_search.fit(X_train, y_train)\n",
    "\n",
    "# Вывод результатов\n",
    "print(\"=== Grid Search ===\")\n",
    "print(\"Лучшие параметры (Grid Search):\", grid_search.best_params_)\n",
    "print(\"Точность (Grid Search):\", grid_search.best_score_)"
   ]
  },
  {
   "cell_type": "code",
   "execution_count": 3,
   "metadata": {},
   "outputs": [
    {
     "name": "stdout",
     "output_type": "stream",
     "text": [
      "\n",
      "=== Random Search ===\n",
      "Лучшие параметры (Random Search): {'max_depth': 20, 'min_samples_leaf': 1, 'min_samples_split': 8, 'n_estimators': 116}\n",
      "Точность (Random Search): 0.9428571428571428\n"
     ]
    }
   ],
   "source": [
    "from sklearn.model_selection import RandomizedSearchCV\n",
    "from scipy.stats import randint\n",
    "\n",
    "# Параметры для Random Search\n",
    "param_dist = {\n",
    "    'n_estimators': randint(10, 200),\n",
    "    'max_depth': [None, 10, 20, 30],\n",
    "    'min_samples_split': randint(2, 10),\n",
    "    'min_samples_leaf': randint(1, 4)\n",
    "}\n",
    "\n",
    "# Создание модели и Random Search\n",
    "model = RandomForestClassifier(random_state=42)\n",
    "random_search = RandomizedSearchCV(estimator=model, param_distributions=param_dist, n_iter=50, cv=5, scoring='accuracy', n_jobs=-1, random_state=42)\n",
    "random_search.fit(X_train, y_train)\n",
    "\n",
    "# Вывод результатов\n",
    "print(\"\\n=== Random Search ===\")\n",
    "print(\"Лучшие параметры (Random Search):\", random_search.best_params_)\n",
    "print(\"Точность (Random Search):\", random_search.best_score_)"
   ]
  },
  {
   "cell_type": "code",
   "execution_count": 4,
   "metadata": {},
   "outputs": [
    {
     "name": "stdout",
     "output_type": "stream",
     "text": [
      "\n",
      "=== Bayesian Optimization ===\n",
      "Лучшие параметры (Bayesian Optimization): OrderedDict({'max_depth': 30, 'min_samples_leaf': 2, 'min_samples_split': 7, 'n_estimators': 163})\n",
      "Точность (Bayesian Optimization): 0.9428571428571428\n"
     ]
    }
   ],
   "source": [
    "from skopt import BayesSearchCV\n",
    "from skopt.space import Integer, Categorical\n",
    "\n",
    "# Параметры для Bayesian Optimization\n",
    "param_bayes = {\n",
    "    'n_estimators': Integer(10, 200),\n",
    "    'max_depth': Categorical([None, 10, 20, 30]),\n",
    "    'min_samples_split': Integer(2, 10),\n",
    "    'min_samples_leaf': Integer(1, 4)\n",
    "}\n",
    "\n",
    "# Создание модели и Bayesian Optimization\n",
    "model = RandomForestClassifier(random_state=42)\n",
    "bayes_search = BayesSearchCV(estimator=model, search_spaces=param_bayes, n_iter=50, cv=5, scoring='accuracy', n_jobs=-1, random_state=42)\n",
    "bayes_search.fit(X_train, y_train)\n",
    "\n",
    "# Вывод результатов\n",
    "print(\"\\n=== Bayesian Optimization ===\")\n",
    "print(\"Лучшие параметры (Bayesian Optimization):\", bayes_search.best_params_)\n",
    "print(\"Точность (Bayesian Optimization):\", bayes_search.best_score_)"
   ]
  },
  {
   "cell_type": "code",
   "execution_count": 5,
   "metadata": {},
   "outputs": [
    {
     "name": "stdout",
     "output_type": "stream",
     "text": [
      "Точность Grid Search на тестовой выборке: 1.0\n",
      "Точность Random Search на тестовой выборке: 1.0\n",
      "Точность Bayesian Optimization на тестовой выборке: 1.0\n"
     ]
    }
   ],
   "source": [
    "from sklearn.metrics import accuracy_score\n",
    "\n",
    "# Grid Search\n",
    "model_grid = RandomForestClassifier(**grid_search.best_params_, random_state=42)\n",
    "model_grid.fit(X_train, y_train)\n",
    "y_pred_grid = model_grid.predict(X_test)\n",
    "print(\"Точность Grid Search на тестовой выборке:\", accuracy_score(y_test, y_pred_grid))\n",
    "\n",
    "# Random Search\n",
    "model_random = RandomForestClassifier(**random_search.best_params_, random_state=42)\n",
    "model_random.fit(X_train, y_train)\n",
    "y_pred_random = model_random.predict(X_test)\n",
    "print(\"Точность Random Search на тестовой выборке:\", accuracy_score(y_test, y_pred_random))\n",
    "\n",
    "# Bayesian Optimization\n",
    "model_bayes = RandomForestClassifier(**bayes_search.best_params_, random_state=42)\n",
    "model_bayes.fit(X_train, y_train)\n",
    "y_pred_bayes = model_bayes.predict(X_test)\n",
    "print(\"Точность Bayesian Optimization на тестовой выборке:\", accuracy_score(y_test, y_pred_bayes))"
   ]
  },
  {
   "cell_type": "code",
   "execution_count": null,
   "metadata": {},
   "outputs": [],
   "source": [
    "from sklearn.metrics import confusion_matrix, classification_report\n",
    "\n",
    "def evaluate_model(y_true, y_pred, method_name):\n",
    "    print(f\"\\nМатрица ошибок ({method_name}):\")\n",
    "    print(confusion_matrix(y_true, y_pred))\n",
    "    print(f\"\\nОтчет по классификации ({method_name}):\")\n",
    "    print(classification_report(y_true, y_pred, target_names=data.target_names))\n",
    "\n",
    "# Grid Search\n",
    "evaluate_model(y_test, y_pred_grid, \"Grid Search\")\n",
    "\n",
    "# Random Search\n",
    "evaluate_model(y_test, y_pred_random, \"Random Search\")\n",
    "\n",
    "# Bayesian Optimization\n",
    "evaluate_model(y_test, y_pred_bayes, \"Bayesian Optimization\")"
   ]
  }
 ],
 "metadata": {
  "kernelspec": {
   "display_name": "Python 3",
   "language": "python",
   "name": "python3"
  },
  "language_info": {
   "codemirror_mode": {
    "name": "ipython",
    "version": 3
   },
   "file_extension": ".py",
   "mimetype": "text/x-python",
   "name": "python",
   "nbconvert_exporter": "python",
   "pygments_lexer": "ipython3",
   "version": "3.12.2"
  }
 },
 "nbformat": 4,
 "nbformat_minor": 2
}
